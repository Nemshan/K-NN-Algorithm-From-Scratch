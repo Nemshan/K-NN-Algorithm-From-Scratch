{
 "cells": [
  {
   "cell_type": "markdown",
   "metadata": {},
   "source": [
    "# K-NN From Scratch\n",
    "\n",
    "Nemshan \n",
    "\n",
    "**The KNN task can be broken down into 3 primary tasks:**\n",
    " - a)\tCalculate the distance between any two points\n",
    "    - i.\tcontinuous features use Euclidean distance\n",
    "    - ii.\tcategorical features use Jaccard distance\n",
    " - b)\tFind the nearest neighbors based on these pairwise distances\n",
    " - c)\tMajority vote on a class labels based on the nearest neighbor list\n",
    "\n"
   ]
  },
  {
   "cell_type": "code",
   "execution_count": 28,
   "metadata": {
    "collapsed": true
   },
   "outputs": [],
   "source": [
    "import numpy as np\n",
    "from sklearn.preprocessing import MinMaxScaler\n",
    "from string import ascii_letters\n",
    "from Madefunctions import*"
   ]
  },
  {
   "cell_type": "code",
   "execution_count": 29,
   "metadata": {},
   "outputs": [
    {
     "name": "stdout",
     "output_type": "stream",
     "text": [
      "\n",
      "file dimensions:  (1309, 14)\n",
      "\n",
      "Columns in dataframe:  ['pclass', 'name', 'sex', 'age', 'sibsp', 'parch', 'ticket', 'fare', 'cabin', 'embarked', 'boat', 'body', 'home.dest', 'survived']\n",
      "Number of NA in  pclass :  0\n",
      "Number of NA in  name :  0\n",
      "Number of NA in  sex :  0\n",
      "Number of NA in  age :  264\n",
      "Number of NA in  sibsp :  0\n",
      "Number of NA in  parch :  0\n",
      "Number of NA in  ticket :  0\n",
      "Number of NA in  fare :  1\n",
      "Number of NA in  cabin :  1014\n",
      "Number of NA in  embarked :  2\n",
      "Number of NA in  boat :  823\n",
      "Number of NA in  body :  1188\n",
      "Number of NA in  home.dest :  564\n",
      "Number of NA in  survived :  0\n",
      "\n",
      "DROP COLUMNS WITH MORE THAN 30 PERCENT NA\n",
      "4  columns were dropped\n",
      "\n",
      " ['pclass', 'name', 'sex', 'age', 'sibsp', 'parch', 'ticket', 'fare', 'embarked', 'survived']\n",
      "\n",
      "The new dimension:  (1309, 10)\n",
      "\n",
      "DROP ROWS WITH NA\n",
      "\n",
      "Clean dataframe dimension  1042  rows and 10  columns\n"
     ]
    }
   ],
   "source": [
    "dftitanic = pd.read_csv(\"titanic.csv\")\n",
    "cleandf = preprocess(dftitanic)\n"
   ]
  },
  {
   "cell_type": "code",
   "execution_count": 30,
   "metadata": {},
   "outputs": [
    {
     "name": "stdout",
     "output_type": "stream",
     "text": [
      "\n",
      "Columns in dataframe:  ['pclass', 'name', 'sex', 'age', 'sibsp', 'parch', 'ticket', 'fare', 'embarked', 'survived']\n",
      "What is your response variable?: survived\n"
     ]
    }
   ],
   "source": [
    "y, x = label(cleandf)"
   ]
  },
  {
   "cell_type": "code",
   "execution_count": 31,
   "metadata": {
    "collapsed": true
   },
   "outputs": [],
   "source": [
    "y = pd.DataFrame(y) "
   ]
  },
  {
   "cell_type": "code",
   "execution_count": 32,
   "metadata": {},
   "outputs": [
    {
     "data": {
      "text/html": [
       "<div>\n",
       "<table border=\"1\" class=\"dataframe\">\n",
       "  <thead>\n",
       "    <tr style=\"text-align: right;\">\n",
       "      <th></th>\n",
       "      <th>pclass</th>\n",
       "      <th>name</th>\n",
       "      <th>sex</th>\n",
       "      <th>age</th>\n",
       "      <th>sibsp</th>\n",
       "      <th>parch</th>\n",
       "      <th>ticket</th>\n",
       "      <th>fare</th>\n",
       "      <th>embarked</th>\n",
       "    </tr>\n",
       "  </thead>\n",
       "  <tbody>\n",
       "    <tr>\n",
       "      <th>0</th>\n",
       "      <td>1</td>\n",
       "      <td>Allen, Miss. Elisabeth Walton</td>\n",
       "      <td>female</td>\n",
       "      <td>29.0</td>\n",
       "      <td>0</td>\n",
       "      <td>0</td>\n",
       "      <td>24160</td>\n",
       "      <td>211.3375</td>\n",
       "      <td>S</td>\n",
       "    </tr>\n",
       "    <tr>\n",
       "      <th>2</th>\n",
       "      <td>1</td>\n",
       "      <td>Allison, Miss. Helen Loraine</td>\n",
       "      <td>female</td>\n",
       "      <td>2.0</td>\n",
       "      <td>1</td>\n",
       "      <td>2</td>\n",
       "      <td>113781</td>\n",
       "      <td>151.5500</td>\n",
       "      <td>S</td>\n",
       "    </tr>\n",
       "    <tr>\n",
       "      <th>3</th>\n",
       "      <td>1</td>\n",
       "      <td>Allison, Mr. Hudson Joshua Creighton</td>\n",
       "      <td>male</td>\n",
       "      <td>30.0</td>\n",
       "      <td>1</td>\n",
       "      <td>2</td>\n",
       "      <td>113781</td>\n",
       "      <td>151.5500</td>\n",
       "      <td>S</td>\n",
       "    </tr>\n",
       "    <tr>\n",
       "      <th>4</th>\n",
       "      <td>1</td>\n",
       "      <td>Allison, Mrs. Hudson J C (Bessie Waldo Daniels)</td>\n",
       "      <td>female</td>\n",
       "      <td>25.0</td>\n",
       "      <td>1</td>\n",
       "      <td>2</td>\n",
       "      <td>113781</td>\n",
       "      <td>151.5500</td>\n",
       "      <td>S</td>\n",
       "    </tr>\n",
       "    <tr>\n",
       "      <th>5</th>\n",
       "      <td>1</td>\n",
       "      <td>Anderson, Mr. Harry</td>\n",
       "      <td>male</td>\n",
       "      <td>48.0</td>\n",
       "      <td>0</td>\n",
       "      <td>0</td>\n",
       "      <td>19952</td>\n",
       "      <td>26.5500</td>\n",
       "      <td>S</td>\n",
       "    </tr>\n",
       "  </tbody>\n",
       "</table>\n",
       "</div>"
      ],
      "text/plain": [
       "   pclass                                             name     sex   age  \\\n",
       "0       1                    Allen, Miss. Elisabeth Walton  female  29.0   \n",
       "2       1                     Allison, Miss. Helen Loraine  female   2.0   \n",
       "3       1             Allison, Mr. Hudson Joshua Creighton    male  30.0   \n",
       "4       1  Allison, Mrs. Hudson J C (Bessie Waldo Daniels)  female  25.0   \n",
       "5       1                              Anderson, Mr. Harry    male  48.0   \n",
       "\n",
       "   sibsp  parch  ticket      fare embarked  \n",
       "0      0      0   24160  211.3375        S  \n",
       "2      1      2  113781  151.5500        S  \n",
       "3      1      2  113781  151.5500        S  \n",
       "4      1      2  113781  151.5500        S  \n",
       "5      0      0   19952   26.5500        S  "
      ]
     },
     "execution_count": 32,
     "metadata": {},
     "output_type": "execute_result"
    }
   ],
   "source": [
    "x.head()"
   ]
  },
  {
   "cell_type": "code",
   "execution_count": 33,
   "metadata": {},
   "outputs": [
    {
     "data": {
      "text/html": [
       "<div>\n",
       "<table border=\"1\" class=\"dataframe\">\n",
       "  <thead>\n",
       "    <tr style=\"text-align: right;\">\n",
       "      <th></th>\n",
       "      <th>survived</th>\n",
       "    </tr>\n",
       "  </thead>\n",
       "  <tbody>\n",
       "    <tr>\n",
       "      <th>0</th>\n",
       "      <td>1</td>\n",
       "    </tr>\n",
       "    <tr>\n",
       "      <th>2</th>\n",
       "      <td>0</td>\n",
       "    </tr>\n",
       "    <tr>\n",
       "      <th>3</th>\n",
       "      <td>0</td>\n",
       "    </tr>\n",
       "    <tr>\n",
       "      <th>4</th>\n",
       "      <td>0</td>\n",
       "    </tr>\n",
       "    <tr>\n",
       "      <th>5</th>\n",
       "      <td>1</td>\n",
       "    </tr>\n",
       "  </tbody>\n",
       "</table>\n",
       "</div>"
      ],
      "text/plain": [
       "   survived\n",
       "0         1\n",
       "2         0\n",
       "3         0\n",
       "4         0\n",
       "5         1"
      ]
     },
     "execution_count": 33,
     "metadata": {},
     "output_type": "execute_result"
    }
   ],
   "source": [
    "y.head()\n"
   ]
  },
  {
   "cell_type": "code",
   "execution_count": 34,
   "metadata": {
    "collapsed": true
   },
   "outputs": [],
   "source": [
    "con = splitter_con(x)"
   ]
  },
  {
   "cell_type": "code",
   "execution_count": 35,
   "metadata": {},
   "outputs": [
    {
     "data": {
      "text/html": [
       "<div>\n",
       "<table border=\"1\" class=\"dataframe\">\n",
       "  <thead>\n",
       "    <tr style=\"text-align: right;\">\n",
       "      <th></th>\n",
       "      <th>age</th>\n",
       "      <th>fare</th>\n",
       "    </tr>\n",
       "  </thead>\n",
       "  <tbody>\n",
       "    <tr>\n",
       "      <th>0</th>\n",
       "      <td>29.0</td>\n",
       "      <td>211.3375</td>\n",
       "    </tr>\n",
       "    <tr>\n",
       "      <th>2</th>\n",
       "      <td>2.0</td>\n",
       "      <td>151.5500</td>\n",
       "    </tr>\n",
       "    <tr>\n",
       "      <th>3</th>\n",
       "      <td>30.0</td>\n",
       "      <td>151.5500</td>\n",
       "    </tr>\n",
       "    <tr>\n",
       "      <th>4</th>\n",
       "      <td>25.0</td>\n",
       "      <td>151.5500</td>\n",
       "    </tr>\n",
       "    <tr>\n",
       "      <th>5</th>\n",
       "      <td>48.0</td>\n",
       "      <td>26.5500</td>\n",
       "    </tr>\n",
       "  </tbody>\n",
       "</table>\n",
       "</div>"
      ],
      "text/plain": [
       "    age      fare\n",
       "0  29.0  211.3375\n",
       "2   2.0  151.5500\n",
       "3  30.0  151.5500\n",
       "4  25.0  151.5500\n",
       "5  48.0   26.5500"
      ]
     },
     "execution_count": 35,
     "metadata": {},
     "output_type": "execute_result"
    }
   ],
   "source": [
    "con.head()"
   ]
  },
  {
   "cell_type": "code",
   "execution_count": 36,
   "metadata": {
    "collapsed": true
   },
   "outputs": [],
   "source": [
    "cat = splitter_cat(x)"
   ]
  },
  {
   "cell_type": "code",
   "execution_count": 37,
   "metadata": {
    "collapsed": true
   },
   "outputs": [],
   "source": [
    "cat = cat.drop(\"name\",axis = 1)"
   ]
  },
  {
   "cell_type": "code",
   "execution_count": 38,
   "metadata": {
    "collapsed": true
   },
   "outputs": [],
   "source": [
    "cat = cat.drop(\"ticket\",axis = 1)"
   ]
  },
  {
   "cell_type": "code",
   "execution_count": 39,
   "metadata": {},
   "outputs": [
    {
     "data": {
      "text/html": [
       "<div>\n",
       "<table border=\"1\" class=\"dataframe\">\n",
       "  <thead>\n",
       "    <tr style=\"text-align: right;\">\n",
       "      <th></th>\n",
       "      <th>pclass</th>\n",
       "      <th>sex</th>\n",
       "      <th>sibsp</th>\n",
       "      <th>parch</th>\n",
       "      <th>embarked</th>\n",
       "    </tr>\n",
       "  </thead>\n",
       "  <tbody>\n",
       "    <tr>\n",
       "      <th>0</th>\n",
       "      <td>1</td>\n",
       "      <td>female</td>\n",
       "      <td>0</td>\n",
       "      <td>0</td>\n",
       "      <td>S</td>\n",
       "    </tr>\n",
       "    <tr>\n",
       "      <th>2</th>\n",
       "      <td>1</td>\n",
       "      <td>female</td>\n",
       "      <td>1</td>\n",
       "      <td>2</td>\n",
       "      <td>S</td>\n",
       "    </tr>\n",
       "    <tr>\n",
       "      <th>3</th>\n",
       "      <td>1</td>\n",
       "      <td>male</td>\n",
       "      <td>1</td>\n",
       "      <td>2</td>\n",
       "      <td>S</td>\n",
       "    </tr>\n",
       "    <tr>\n",
       "      <th>4</th>\n",
       "      <td>1</td>\n",
       "      <td>female</td>\n",
       "      <td>1</td>\n",
       "      <td>2</td>\n",
       "      <td>S</td>\n",
       "    </tr>\n",
       "    <tr>\n",
       "      <th>5</th>\n",
       "      <td>1</td>\n",
       "      <td>male</td>\n",
       "      <td>0</td>\n",
       "      <td>0</td>\n",
       "      <td>S</td>\n",
       "    </tr>\n",
       "  </tbody>\n",
       "</table>\n",
       "</div>"
      ],
      "text/plain": [
       "   pclass     sex  sibsp  parch embarked\n",
       "0       1  female      0      0        S\n",
       "2       1  female      1      2        S\n",
       "3       1    male      1      2        S\n",
       "4       1  female      1      2        S\n",
       "5       1    male      0      0        S"
      ]
     },
     "execution_count": 39,
     "metadata": {},
     "output_type": "execute_result"
    }
   ],
   "source": [
    "cat.head()"
   ]
  },
  {
   "cell_type": "code",
   "execution_count": 40,
   "metadata": {},
   "outputs": [
    {
     "data": {
      "text/html": [
       "<div>\n",
       "<table border=\"1\" class=\"dataframe\">\n",
       "  <thead>\n",
       "    <tr style=\"text-align: right;\">\n",
       "      <th></th>\n",
       "      <th>pclass</th>\n",
       "      <th>sex</th>\n",
       "      <th>sibsp</th>\n",
       "      <th>parch</th>\n",
       "      <th>embarked</th>\n",
       "    </tr>\n",
       "  </thead>\n",
       "  <tbody>\n",
       "    <tr>\n",
       "      <th>0</th>\n",
       "      <td>1</td>\n",
       "      <td>female</td>\n",
       "      <td>0</td>\n",
       "      <td>0</td>\n",
       "      <td>S</td>\n",
       "    </tr>\n",
       "    <tr>\n",
       "      <th>2</th>\n",
       "      <td>1</td>\n",
       "      <td>female</td>\n",
       "      <td>1</td>\n",
       "      <td>2</td>\n",
       "      <td>S</td>\n",
       "    </tr>\n",
       "    <tr>\n",
       "      <th>3</th>\n",
       "      <td>1</td>\n",
       "      <td>male</td>\n",
       "      <td>1</td>\n",
       "      <td>2</td>\n",
       "      <td>S</td>\n",
       "    </tr>\n",
       "    <tr>\n",
       "      <th>4</th>\n",
       "      <td>1</td>\n",
       "      <td>female</td>\n",
       "      <td>1</td>\n",
       "      <td>2</td>\n",
       "      <td>S</td>\n",
       "    </tr>\n",
       "    <tr>\n",
       "      <th>5</th>\n",
       "      <td>1</td>\n",
       "      <td>male</td>\n",
       "      <td>0</td>\n",
       "      <td>0</td>\n",
       "      <td>S</td>\n",
       "    </tr>\n",
       "  </tbody>\n",
       "</table>\n",
       "</div>"
      ],
      "text/plain": [
       "   pclass     sex  sibsp  parch embarked\n",
       "0       1  female      0      0        S\n",
       "2       1  female      1      2        S\n",
       "3       1    male      1      2        S\n",
       "4       1  female      1      2        S\n",
       "5       1    male      0      0        S"
      ]
     },
     "execution_count": 40,
     "metadata": {},
     "output_type": "execute_result"
    }
   ],
   "source": [
    "norm_con = normalize(con)\n",
    "cat = removeUcol(cat)\n",
    "cat.head()"
   ]
  },
  {
   "cell_type": "code",
   "execution_count": 42,
   "metadata": {},
   "outputs": [
    {
     "data": {
      "text/html": [
       "<div>\n",
       "<table border=\"1\" class=\"dataframe\">\n",
       "  <thead>\n",
       "    <tr style=\"text-align: right;\">\n",
       "      <th></th>\n",
       "      <th>age</th>\n",
       "      <th>fare</th>\n",
       "    </tr>\n",
       "  </thead>\n",
       "  <tbody>\n",
       "    <tr>\n",
       "      <th>0</th>\n",
       "      <td>0.3625</td>\n",
       "      <td>0.41250</td>\n",
       "    </tr>\n",
       "    <tr>\n",
       "      <th>1</th>\n",
       "      <td>0.0250</td>\n",
       "      <td>0.29581</td>\n",
       "    </tr>\n",
       "    <tr>\n",
       "      <th>2</th>\n",
       "      <td>0.3750</td>\n",
       "      <td>0.29581</td>\n",
       "    </tr>\n",
       "    <tr>\n",
       "      <th>3</th>\n",
       "      <td>0.3125</td>\n",
       "      <td>0.29581</td>\n",
       "    </tr>\n",
       "    <tr>\n",
       "      <th>4</th>\n",
       "      <td>0.6000</td>\n",
       "      <td>0.05182</td>\n",
       "    </tr>\n",
       "  </tbody>\n",
       "</table>\n",
       "</div>"
      ],
      "text/plain": [
       "      age     fare\n",
       "0  0.3625  0.41250\n",
       "1  0.0250  0.29581\n",
       "2  0.3750  0.29581\n",
       "3  0.3125  0.29581\n",
       "4  0.6000  0.05182"
      ]
     },
     "execution_count": 42,
     "metadata": {},
     "output_type": "execute_result"
    }
   ],
   "source": [
    "norm_con.head()"
   ]
  },
  {
   "cell_type": "code",
   "execution_count": 43,
   "metadata": {},
   "outputs": [
    {
     "name": "stdout",
     "output_type": "stream",
     "text": [
      "What feature do you want to relabel?: parch\n",
      "Matched feature:  parch\n",
      "This is s:  [0, 1, 2, 3, 4, 5, 6]\n",
      "This is the length:  7\n",
      "These are the random letters:  ['H', 'r', 'w', 'c', 'X', 'C', 'm']\n"
     ]
    }
   ],
   "source": [
    "cat = relabel(cat) "
   ]
  },
  {
   "cell_type": "code",
   "execution_count": 44,
   "metadata": {
    "collapsed": true
   },
   "outputs": [],
   "source": [
    "cat = setCat(cat)"
   ]
  },
  {
   "cell_type": "code",
   "execution_count": 46,
   "metadata": {
    "collapsed": true
   },
   "outputs": [],
   "source": [
    "catset = list(cat[\"sets\"]) \n"
   ]
  },
  {
   "cell_type": "code",
   "execution_count": 50,
   "metadata": {
    "collapsed": true
   },
   "outputs": [],
   "source": [
    "norm_con[\"Jsets\"] = catset"
   ]
  },
  {
   "cell_type": "code",
   "execution_count": 51,
   "metadata": {
    "collapsed": true
   },
   "outputs": [],
   "source": [
    "label = list(y[\"survived\"])"
   ]
  },
  {
   "cell_type": "code",
   "execution_count": 52,
   "metadata": {
    "collapsed": true
   },
   "outputs": [],
   "source": [
    "norm_con[\"label\"] = label\n"
   ]
  },
  {
   "cell_type": "code",
   "execution_count": 53,
   "metadata": {},
   "outputs": [
    {
     "data": {
      "text/html": [
       "<div>\n",
       "<table border=\"1\" class=\"dataframe\">\n",
       "  <thead>\n",
       "    <tr style=\"text-align: right;\">\n",
       "      <th></th>\n",
       "      <th>age</th>\n",
       "      <th>fare</th>\n",
       "      <th>Jsets</th>\n",
       "      <th>label</th>\n",
       "    </tr>\n",
       "  </thead>\n",
       "  <tbody>\n",
       "    <tr>\n",
       "      <th>0</th>\n",
       "      <td>0.3625</td>\n",
       "      <td>0.41250</td>\n",
       "      <td>{0, 1, female, S, H}</td>\n",
       "      <td>1</td>\n",
       "    </tr>\n",
       "    <tr>\n",
       "      <th>1</th>\n",
       "      <td>0.0250</td>\n",
       "      <td>0.29581</td>\n",
       "      <td>{1, w, female, S}</td>\n",
       "      <td>0</td>\n",
       "    </tr>\n",
       "    <tr>\n",
       "      <th>2</th>\n",
       "      <td>0.3750</td>\n",
       "      <td>0.29581</td>\n",
       "      <td>{1, w, male, S}</td>\n",
       "      <td>0</td>\n",
       "    </tr>\n",
       "    <tr>\n",
       "      <th>3</th>\n",
       "      <td>0.3125</td>\n",
       "      <td>0.29581</td>\n",
       "      <td>{1, w, female, S}</td>\n",
       "      <td>0</td>\n",
       "    </tr>\n",
       "    <tr>\n",
       "      <th>4</th>\n",
       "      <td>0.6000</td>\n",
       "      <td>0.05182</td>\n",
       "      <td>{0, 1, S, male, H}</td>\n",
       "      <td>1</td>\n",
       "    </tr>\n",
       "  </tbody>\n",
       "</table>\n",
       "</div>"
      ],
      "text/plain": [
       "      age     fare                 Jsets  label\n",
       "0  0.3625  0.41250  {0, 1, female, S, H}      1\n",
       "1  0.0250  0.29581     {1, w, female, S}      0\n",
       "2  0.3750  0.29581       {1, w, male, S}      0\n",
       "3  0.3125  0.29581     {1, w, female, S}      0\n",
       "4  0.6000  0.05182    {0, 1, S, male, H}      1"
      ]
     },
     "execution_count": 53,
     "metadata": {},
     "output_type": "execute_result"
    }
   ],
   "source": [
    "norm_con.head()"
   ]
  },
  {
   "cell_type": "code",
   "execution_count": 62,
   "metadata": {},
   "outputs": [
    {
     "name": "stdout",
     "output_type": "stream",
     "text": [
      "(833, 4)\n",
      "(209, 4)\n"
     ]
    }
   ],
   "source": [
    "#train test split\n",
    "train, test = traintestsplit(norm_con)\n",
    "print(train.shape)\n",
    "print(test.shape)"
   ]
  },
  {
   "cell_type": "code",
   "execution_count": 63,
   "metadata": {},
   "outputs": [
    {
     "name": "stdout",
     "output_type": "stream",
     "text": [
      "What is your k?3\n",
      "1 out of  209 :   Actual:  1 predicted:  0\n",
      "2 out of  209 :   Actual:  1 predicted:  0\n",
      "3 out of  209 :   Actual:  0 predicted:  1\n",
      "4 out of  209 :   Actual:  0 predicted:  1\n",
      "5 out of  209 :   Actual:  0 predicted:  0\n",
      "6 out of  209 :   Actual:  0 predicted:  0\n",
      "7 out of  209 :   Actual:  0 predicted:  1\n",
      "8 out of  209 :   Actual:  0 predicted:  1\n",
      "9 out of  209 :   Actual:  1 predicted:  0\n",
      "10 out of  209 :   Actual:  0 predicted:  0\n",
      "11 out of  209 :   Actual:  0 predicted:  0\n",
      "12 out of  209 :   Actual:  0 predicted:  1\n",
      "13 out of  209 :   Actual:  0 predicted:  0\n",
      "14 out of  209 :   Actual:  1 predicted:  0\n",
      "15 out of  209 :   Actual:  0 predicted:  1\n",
      "16 out of  209 :   Actual:  0 predicted:  1\n",
      "17 out of  209 :   Actual:  1 predicted:  0\n",
      "18 out of  209 :   Actual:  0 predicted:  0\n",
      "19 out of  209 :   Actual:  1 predicted:  0\n",
      "20 out of  209 :   Actual:  0 predicted:  0\n",
      "21 out of  209 :   Actual:  1 predicted:  0\n",
      "22 out of  209 :   Actual:  1 predicted:  0\n",
      "23 out of  209 :   Actual:  0 predicted:  0\n",
      "24 out of  209 :   Actual:  0 predicted:  1\n",
      "25 out of  209 :   Actual:  0 predicted:  0\n",
      "26 out of  209 :   Actual:  0 predicted:  0\n",
      "27 out of  209 :   Actual:  0 predicted:  0\n",
      "28 out of  209 :   Actual:  0 predicted:  1\n",
      "29 out of  209 :   Actual:  1 predicted:  0\n",
      "30 out of  209 :   Actual:  0 predicted:  0\n",
      "31 out of  209 :   Actual:  0 predicted:  0\n",
      "32 out of  209 :   Actual:  0 predicted:  0\n",
      "33 out of  209 :   Actual:  1 predicted:  0\n",
      "34 out of  209 :   Actual:  1 predicted:  0\n",
      "35 out of  209 :   Actual:  0 predicted:  0\n",
      "36 out of  209 :   Actual:  1 predicted:  1\n",
      "37 out of  209 :   Actual:  0 predicted:  1\n",
      "38 out of  209 :   Actual:  0 predicted:  1\n",
      "39 out of  209 :   Actual:  1 predicted:  1\n",
      "40 out of  209 :   Actual:  0 predicted:  0\n",
      "41 out of  209 :   Actual:  0 predicted:  0\n",
      "42 out of  209 :   Actual:  0 predicted:  0\n",
      "43 out of  209 :   Actual:  0 predicted:  0\n",
      "44 out of  209 :   Actual:  0 predicted:  0\n",
      "45 out of  209 :   Actual:  1 predicted:  0\n",
      "46 out of  209 :   Actual:  1 predicted:  1\n",
      "47 out of  209 :   Actual:  0 predicted:  1\n",
      "48 out of  209 :   Actual:  0 predicted:  0\n",
      "49 out of  209 :   Actual:  0 predicted:  0\n",
      "50 out of  209 :   Actual:  0 predicted:  0\n",
      "51 out of  209 :   Actual:  1 predicted:  0\n",
      "52 out of  209 :   Actual:  1 predicted:  0\n",
      "53 out of  209 :   Actual:  0 predicted:  0\n",
      "54 out of  209 :   Actual:  1 predicted:  1\n",
      "55 out of  209 :   Actual:  0 predicted:  1\n",
      "56 out of  209 :   Actual:  0 predicted:  1\n",
      "57 out of  209 :   Actual:  1 predicted:  0\n",
      "58 out of  209 :   Actual:  0 predicted:  0\n",
      "59 out of  209 :   Actual:  1 predicted:  0\n",
      "60 out of  209 :   Actual:  0 predicted:  0\n",
      "61 out of  209 :   Actual:  0 predicted:  0\n",
      "62 out of  209 :   Actual:  0 predicted:  0\n",
      "63 out of  209 :   Actual:  1 predicted:  1\n",
      "64 out of  209 :   Actual:  1 predicted:  1\n",
      "65 out of  209 :   Actual:  0 predicted:  1\n",
      "66 out of  209 :   Actual:  0 predicted:  0\n",
      "67 out of  209 :   Actual:  0 predicted:  1\n",
      "68 out of  209 :   Actual:  1 predicted:  1\n",
      "69 out of  209 :   Actual:  0 predicted:  1\n",
      "70 out of  209 :   Actual:  1 predicted:  0\n",
      "71 out of  209 :   Actual:  1 predicted:  1\n",
      "72 out of  209 :   Actual:  1 predicted:  0\n",
      "73 out of  209 :   Actual:  0 predicted:  0\n",
      "74 out of  209 :   Actual:  0 predicted:  0\n",
      "75 out of  209 :   Actual:  1 predicted:  1\n",
      "76 out of  209 :   Actual:  0 predicted:  0\n",
      "77 out of  209 :   Actual:  0 predicted:  0\n",
      "78 out of  209 :   Actual:  0 predicted:  0\n",
      "79 out of  209 :   Actual:  1 predicted:  0\n",
      "80 out of  209 :   Actual:  0 predicted:  0\n",
      "81 out of  209 :   Actual:  1 predicted:  0\n",
      "82 out of  209 :   Actual:  0 predicted:  0\n",
      "83 out of  209 :   Actual:  0 predicted:  1\n",
      "84 out of  209 :   Actual:  1 predicted:  0\n",
      "85 out of  209 :   Actual:  0 predicted:  1\n",
      "86 out of  209 :   Actual:  0 predicted:  0\n",
      "87 out of  209 :   Actual:  0 predicted:  1\n",
      "88 out of  209 :   Actual:  0 predicted:  0\n",
      "89 out of  209 :   Actual:  0 predicted:  1\n",
      "90 out of  209 :   Actual:  0 predicted:  0\n",
      "91 out of  209 :   Actual:  1 predicted:  1\n",
      "92 out of  209 :   Actual:  0 predicted:  1\n",
      "93 out of  209 :   Actual:  1 predicted:  0\n",
      "94 out of  209 :   Actual:  1 predicted:  1\n",
      "95 out of  209 :   Actual:  1 predicted:  1\n",
      "96 out of  209 :   Actual:  1 predicted:  1\n",
      "97 out of  209 :   Actual:  1 predicted:  0\n",
      "98 out of  209 :   Actual:  1 predicted:  0\n",
      "99 out of  209 :   Actual:  1 predicted:  0\n",
      "100 out of  209 :   Actual:  0 predicted:  0\n",
      "101 out of  209 :   Actual:  0 predicted:  0\n",
      "102 out of  209 :   Actual:  0 predicted:  0\n",
      "103 out of  209 :   Actual:  1 predicted:  1\n",
      "104 out of  209 :   Actual:  1 predicted:  1\n",
      "105 out of  209 :   Actual:  0 predicted:  1\n",
      "106 out of  209 :   Actual:  1 predicted:  0\n",
      "107 out of  209 :   Actual:  1 predicted:  1\n",
      "108 out of  209 :   Actual:  0 predicted:  0\n",
      "109 out of  209 :   Actual:  0 predicted:  0\n",
      "110 out of  209 :   Actual:  0 predicted:  1\n",
      "111 out of  209 :   Actual:  1 predicted:  0\n",
      "112 out of  209 :   Actual:  0 predicted:  1\n",
      "113 out of  209 :   Actual:  0 predicted:  1\n",
      "114 out of  209 :   Actual:  1 predicted:  1\n",
      "115 out of  209 :   Actual:  0 predicted:  0\n",
      "116 out of  209 :   Actual:  1 predicted:  0\n",
      "117 out of  209 :   Actual:  0 predicted:  1\n",
      "118 out of  209 :   Actual:  0 predicted:  1\n",
      "119 out of  209 :   Actual:  0 predicted:  0\n",
      "120 out of  209 :   Actual:  1 predicted:  0\n",
      "121 out of  209 :   Actual:  1 predicted:  0\n",
      "122 out of  209 :   Actual:  1 predicted:  0\n",
      "123 out of  209 :   Actual:  1 predicted:  1\n",
      "124 out of  209 :   Actual:  0 predicted:  1\n",
      "125 out of  209 :   Actual:  1 predicted:  0\n",
      "126 out of  209 :   Actual:  0 predicted:  0\n",
      "127 out of  209 :   Actual:  1 predicted:  0\n",
      "128 out of  209 :   Actual:  1 predicted:  0\n",
      "129 out of  209 :   Actual:  0 predicted:  1\n",
      "130 out of  209 :   Actual:  0 predicted:  1\n",
      "131 out of  209 :   Actual:  0 predicted:  0\n",
      "132 out of  209 :   Actual:  1 predicted:  0\n",
      "133 out of  209 :   Actual:  0 predicted:  0\n",
      "134 out of  209 :   Actual:  0 predicted:  0\n",
      "135 out of  209 :   Actual:  0 predicted:  0\n",
      "136 out of  209 :   Actual:  1 predicted:  0\n",
      "137 out of  209 :   Actual:  0 predicted:  0\n",
      "138 out of  209 :   Actual:  0 predicted:  0\n",
      "139 out of  209 :   Actual:  1 predicted:  0\n",
      "140 out of  209 :   Actual:  0 predicted:  1\n",
      "141 out of  209 :   Actual:  1 predicted:  0\n",
      "142 out of  209 :   Actual:  0 predicted:  0\n",
      "143 out of  209 :   Actual:  0 predicted:  0\n",
      "144 out of  209 :   Actual:  1 predicted:  1\n",
      "145 out of  209 :   Actual:  0 predicted:  0\n",
      "146 out of  209 :   Actual:  0 predicted:  0\n",
      "147 out of  209 :   Actual:  1 predicted:  1\n",
      "148 out of  209 :   Actual:  1 predicted:  0\n",
      "149 out of  209 :   Actual:  1 predicted:  0\n",
      "150 out of  209 :   Actual:  0 predicted:  0\n",
      "151 out of  209 :   Actual:  0 predicted:  0\n",
      "152 out of  209 :   Actual:  0 predicted:  0\n",
      "153 out of  209 :   Actual:  0 predicted:  1\n",
      "154 out of  209 :   Actual:  0 predicted:  1\n",
      "155 out of  209 :   Actual:  0 predicted:  0\n",
      "156 out of  209 :   Actual:  0 predicted:  0\n",
      "157 out of  209 :   Actual:  1 predicted:  1\n",
      "158 out of  209 :   Actual:  0 predicted:  1\n",
      "159 out of  209 :   Actual:  0 predicted:  1\n",
      "160 out of  209 :   Actual:  0 predicted:  0\n",
      "161 out of  209 :   Actual:  0 predicted:  0\n",
      "162 out of  209 :   Actual:  0 predicted:  1\n",
      "163 out of  209 :   Actual:  0 predicted:  0\n",
      "164 out of  209 :   Actual:  1 predicted:  0\n",
      "165 out of  209 :   Actual:  1 predicted:  1\n",
      "166 out of  209 :   Actual:  0 predicted:  0\n",
      "167 out of  209 :   Actual:  1 predicted:  0\n",
      "168 out of  209 :   Actual:  0 predicted:  1\n",
      "169 out of  209 :   Actual:  0 predicted:  1\n",
      "170 out of  209 :   Actual:  0 predicted:  1\n",
      "171 out of  209 :   Actual:  1 predicted:  0\n",
      "172 out of  209 :   Actual:  0 predicted:  0\n",
      "173 out of  209 :   Actual:  0 predicted:  0\n",
      "174 out of  209 :   Actual:  0 predicted:  1\n",
      "175 out of  209 :   Actual:  0 predicted:  0\n",
      "176 out of  209 :   Actual:  1 predicted:  0\n",
      "177 out of  209 :   Actual:  0 predicted:  1\n",
      "178 out of  209 :   Actual:  1 predicted:  1\n",
      "179 out of  209 :   Actual:  0 predicted:  0\n",
      "180 out of  209 :   Actual:  1 predicted:  1\n",
      "181 out of  209 :   Actual:  0 predicted:  0\n",
      "182 out of  209 :   Actual:  0 predicted:  0\n",
      "183 out of  209 :   Actual:  0 predicted:  1\n",
      "184 out of  209 :   Actual:  0 predicted:  0\n",
      "185 out of  209 :   Actual:  0 predicted:  1\n",
      "186 out of  209 :   Actual:  1 predicted:  1\n",
      "187 out of  209 :   Actual:  0 predicted:  1\n",
      "188 out of  209 :   Actual:  0 predicted:  0\n",
      "189 out of  209 :   Actual:  0 predicted:  0\n",
      "190 out of  209 :   Actual:  0 predicted:  1\n",
      "191 out of  209 :   Actual:  0 predicted:  0\n",
      "192 out of  209 :   Actual:  1 predicted:  1\n",
      "193 out of  209 :   Actual:  0 predicted:  1\n",
      "194 out of  209 :   Actual:  0 predicted:  0\n",
      "195 out of  209 :   Actual:  1 predicted:  0\n",
      "196 out of  209 :   Actual:  0 predicted:  0\n",
      "197 out of  209 :   Actual:  0 predicted:  1\n",
      "198 out of  209 :   Actual:  0 predicted:  1\n",
      "199 out of  209 :   Actual:  0 predicted:  0\n",
      "200 out of  209 :   Actual:  1 predicted:  0\n",
      "201 out of  209 :   Actual:  0 predicted:  0\n",
      "202 out of  209 :   Actual:  1 predicted:  0\n",
      "203 out of  209 :   Actual:  0 predicted:  1\n",
      "204 out of  209 :   Actual:  1 predicted:  1\n",
      "205 out of  209 :   Actual:  0 predicted:  0\n",
      "206 out of  209 :   Actual:  0 predicted:  1\n",
      "207 out of  209 :   Actual:  1 predicted:  0\n",
      "208 out of  209 :   Actual:  0 predicted:  0\n",
      "209 out of  209 :   Actual:  1 predicted:  1\n",
      "Accuracy score:  52.63\n"
     ]
    }
   ],
   "source": [
    "#run the gower function to classify and check accuracy\n",
    "cl = Gower(train, test)\n",
    "accuracy(cl)"
   ]
  },
  {
   "cell_type": "code",
   "execution_count": null,
   "metadata": {
    "collapsed": true
   },
   "outputs": [],
   "source": []
  }
 ],
 "metadata": {
  "kernelspec": {
   "display_name": "Python 3",
   "language": "python",
   "name": "python3"
  },
  "language_info": {
   "codemirror_mode": {
    "name": "ipython",
    "version": 3
   },
   "file_extension": ".py",
   "mimetype": "text/x-python",
   "name": "python",
   "nbconvert_exporter": "python",
   "pygments_lexer": "ipython3",
   "version": "3.6.3"
  }
 },
 "nbformat": 4,
 "nbformat_minor": 2
}
